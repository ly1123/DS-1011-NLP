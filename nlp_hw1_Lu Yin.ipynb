{
 "cells": [
  {
   "cell_type": "code",
   "execution_count": 113,
   "metadata": {},
   "outputs": [],
   "source": [
    "import spacy\n",
    "import os\n",
    "import string\n",
    "import numpy as np\n",
    "import nltk\n",
    "from sklearn.model_selection import train_test_split"
   ]
  },
  {
   "cell_type": "markdown",
   "metadata": {},
   "source": [
    "# 1. Document reading and cleaning"
   ]
  },
  {
   "cell_type": "code",
   "execution_count": 89,
   "metadata": {},
   "outputs": [],
   "source": [
    "def read_files(path):\n",
    "    data = list()\n",
    "    if os.path.isdir(path):\n",
    "        for filename in os.listdir(path):\n",
    "            with open('%s/%s' % (path, filename)) as f:\n",
    "                doc = f.read()\n",
    "                doc = doc.replace('<br />','') #replace '<br />' with null\n",
    "                data.append(doc)\n",
    "    return data"
   ]
  },
  {
   "cell_type": "code",
   "execution_count": 144,
   "metadata": {},
   "outputs": [],
   "source": [
    "## IMDB data\n",
    "neg_data = read_files('/Users/luyin/Downloads/aclImdb/train/neg')\n",
    "pos_data = read_files('/Users/luyin/Downloads/aclImdb/train/pos')\n",
    "data = neg_data + pos_data\n",
    "labels = [0 for _ in range(len(neg_data))] + [1 for _ in range(len(pos_data))]"
   ]
  },
  {
   "cell_type": "code",
   "execution_count": 93,
   "metadata": {},
   "outputs": [],
   "source": [
    "#split data to train and test\n",
    "d_train, d_val, y_train, y_val = train_test_split(data, labels, test_size=0.2, random_state=42)"
   ]
  },
  {
   "cell_type": "markdown",
   "metadata": {},
   "source": [
    "# 2. Tokenization"
   ]
  },
  {
   "cell_type": "code",
   "execution_count": 129,
   "metadata": {},
   "outputs": [],
   "source": [
    "tokenizer = spacy.load('en_core_web_sm')\n",
    "punctuations = string.punctuation\n",
    "digits = string.digits\n",
    "from spacy.lang.en.stop_words import STOP_WORDS\n",
    "STOP_WORDS.add(\"'s\")\n",
    "STOP_WORDS.add(\" \")\n",
    "STOP_WORDS.add(\",\")# additional stop words for \n",
    "# lowercase and remove punctuation\n",
    "def tokenize(sent):\n",
    "    tokens = tokenizer(sent)\n",
    "    return [token.text.lower() for token in tokens if (token.text not in dights token.text not in punctuations \\\n",
    "                                                       and token.text not in STOP_WORDS)]"
   ]
  },
  {
   "cell_type": "code",
   "execution_count": 109,
   "metadata": {},
   "outputs": [],
   "source": [
    "def tokenize_dataset(dataset):\n",
    "    token_dataset = []\n",
    "    # we are keeping track of all tokens in dataset \n",
    "    # in order to create vocabulary later\n",
    "    all_tokens = []\n",
    "    \n",
    "    for sample in dataset:\n",
    "        tokens = tokenize(sample)\n",
    "        token_dataset.append(tokens) #append the whole token list as an item\n",
    "        all_tokens += tokens # combine two list to one list\n",
    "\n",
    "    return token_dataset, all_tokens"
   ]
  },
  {
   "cell_type": "code",
   "execution_count": 111,
   "metadata": {},
   "outputs": [
    {
     "name": "stdout",
     "output_type": "stream",
     "text": [
      "Tokenizing val data\n",
      "Tokenizing train data\n"
     ]
    }
   ],
   "source": [
    "import pickle as pkl\n",
    "\n",
    "print (\"Tokenizing val data...\")\n",
    "val_tokens, _ = tokenize_dataset(d_val)\n",
    "pkl.dump(val_tokens, open(\"val_tokens.p\", \"wb\"))\n",
    "\n",
    "\n",
    "print (\"Tokenizing train data...\")\n",
    "train_tokens, all_tokens = tokenize_dataset(d_train)\n",
    "pkl.dump(train_tokens, open(\"train_tokens.p\", \"wb\"))\n",
    "pkl.dump(all_tokens, open(\"all_tokens.p\", \"wb\"))"
   ]
  },
  {
   "cell_type": "code",
   "execution_count": 368,
   "metadata": {},
   "outputs": [
    {
     "name": "stdout",
     "output_type": "stream",
     "text": [
      "Train dataset size is 20000\n",
      "Val dataset size is 5000\n",
      "Total number of tokens in train dataset is 2410959\n"
     ]
    }
   ],
   "source": [
    "print (\"Train dataset size is {}\".format(len(train_tokens)))\n",
    "print (\"Val dataset size is {}\".format(len(val_tokens)))\n",
    "print (\"Total number of tokens in train dataset is {}\".format(len(all_tokens)))"
   ]
  },
  {
   "cell_type": "code",
   "execution_count": 635,
   "metadata": {},
   "outputs": [],
   "source": [
    "train_tokens = pkl.load(open(\"/Users/luyin/Downloads/train_tokens.p\", \"rb\"))\n",
    "all_tokens = pkl.load(open(\"/Users/luyin/Downloads/all_tokens.p\", \"rb\"))\n",
    "val_tokens = pkl.load(open(\"/Users/luyin/Downloads/val_tokens.p\", \"rb\"))"
   ]
  },
  {
   "cell_type": "markdown",
   "metadata": {},
   "source": [
    "# 3. Creating vocabulary dictionary"
   ]
  },
  {
   "cell_type": "code",
   "execution_count": 592,
   "metadata": {},
   "outputs": [],
   "source": [
    "from nltk.util import ngrams\n",
    "\n",
    "n_gram = [1, 2, 3, 4] # ngram return tuple type\n",
    "unigram = all_tokens\n",
    "bigrams_vocab = list(ngrams((all_tokens), n_gram[1])) # n_gram = 2\n",
    "trigrams_vocab = list(ngrams((all_tokens), n_gram[2])) # n_grams = 3\n",
    "fourgrams_vocab = list(ngrams((all_tokens), n_gram[3])) # n_grams = 4"
   ]
  },
  {
   "cell_type": "code",
   "execution_count": 440,
   "metadata": {},
   "outputs": [],
   "source": [
    "#tokenize n_gram on training sets and validation sets\n",
    "bi_train_tokens = []\n",
    "tri_train_tokens = []\n",
    "four_train_tokens = []\n",
    "for sample in train_tokens:\n",
    "    l2 = list(ngrams((sample), n_gram[1]))\n",
    "    l3 = list(ngrams((sample), n_gram[2]))\n",
    "    l4 = list(ngrams((sample), n_gram[3]))\n",
    "    bi_train_tokens.append(l2)\n",
    "    tri_train_tokens.append(l3)\n",
    "    four_train_tokens.append(l4)\n"
   ]
  },
  {
   "cell_type": "code",
   "execution_count": 441,
   "metadata": {},
   "outputs": [],
   "source": [
    "bi_val_tokens = []\n",
    "tri_val_tokens = []\n",
    "four_val_tokens = []\n",
    "\n",
    "four_train_tokens = []\n",
    "for sample in val_tokens:\n",
    "    l2 = list(ngrams((sample), n_gram[1]))\n",
    "    l3 = list(ngrams((sample), n_gram[2]))\n",
    "    l4 = list(ngrams((sample), n_gram[3]))\n",
    "    bi_val_tokens.append(l2)\n",
    "    tri_val_tokens.append(l3)\n",
    "    four_val_tokens.append(l4)\n"
   ]
  },
  {
   "cell_type": "code",
   "execution_count": 593,
   "metadata": {},
   "outputs": [
    {
     "name": "stdout",
     "output_type": "stream",
     "text": [
      "The length of all tokens is :2410959\n",
      "Vacabulary of bag of words(ngram = 1) is: 82955\n",
      "Vacabulary of bigrams(ngram = 2) is: 1466999\n",
      "Vacabulary of trigrams(ngram = 3) is: 2244058\n",
      "Vacabulary of fourgrams(ngram = 4) is: 2378879\n"
     ]
    }
   ],
   "source": [
    "print('The length of all tokens is :{}'.format(len(all_tokens)))\n",
    "print('Vacabulary of bag of words(ngram = 1) is: {}'.format(len(set(unigram))))\n",
    "print('Vacabulary of bigrams(ngram = 2) is: {}'.format(len(set(bigrams_vocab))))\n",
    "print('Vacabulary of trigrams(ngram = 3) is: {}'.format(len(set(trigrams_vocab))))\n",
    "print('Vacabulary of fourgrams(ngram = 4) is: {}'.format(len(set(fourgrams_vocab))))"
   ]
  },
  {
   "cell_type": "code",
   "execution_count": 597,
   "metadata": {},
   "outputs": [
    {
     "data": {
      "text/plain": [
       "('this', 'good', 'film', 'i')"
      ]
     },
     "execution_count": 597,
     "metadata": {},
     "output_type": "execute_result"
    }
   ],
   "source": [
    "fourgrams_vocab[0]"
   ]
  },
  {
   "cell_type": "code",
   "execution_count": 422,
   "metadata": {},
   "outputs": [],
   "source": [
    "from collections import Counter\n",
    "\n",
    "pad_idx = 0\n",
    "unk_idx = 1\n",
    "\n",
    "max_vocab_size_list = [10000, 50000, 90000]\n",
    "\n",
    "def vocabulary_dictionary(token_list, max_vocab_size):\n",
    "# vocab = set(token_list)\n",
    "# it is important to find the unique word dictionary\n",
    "    token_counter = Counter(token_list)\n",
    "    vocab, count = zip(*token_counter.most_common(max_vocab_size))\n",
    "    idx2token = list(vocab)\n",
    "    # add pad and unk to tokens\n",
    "    token2idx = dict(zip(vocab, range(2, 2+ len(vocab))))\n",
    "    idx2token = ['<pad>', '<unk>'] + idx2token\n",
    "    token2idx['<pad>'] = pad_idx\n",
    "    token2idx['<unk>'] = unk_idx\n",
    "    return token2idx , idx2token"
   ]
  },
  {
   "cell_type": "code",
   "execution_count": 650,
   "metadata": {},
   "outputs": [
    {
     "name": "stdout",
     "output_type": "stream",
     "text": [
      "Token id 4420 ; token: disappoint\n",
      "Token disappoint; token: id 4420\n"
     ]
    }
   ],
   "source": [
    "#token2id and id2token test\n",
    "import random\n",
    "random_token_id = random.randint(0, len(id2token)-1)\n",
    "random_token = id2token[random_token_id]\n",
    "\n",
    "print (\"Token id {} ; token: {}\".format(random_token_id, id2token[random_token_id]))\n",
    "print (\"Token {}; token: id {}\".format(random_token, token2id[random_token]))"
   ]
  },
  {
   "cell_type": "markdown",
   "metadata": {},
   "source": [
    "# 4. Convert data into index"
   ]
  },
  {
   "cell_type": "code",
   "execution_count": 567,
   "metadata": {},
   "outputs": [],
   "source": [
    "def token2index_dataset(tokens_data, token_idx):\n",
    "    indices_data = []\n",
    "    for tokens in tokens_data:\n",
    "        index_list = [token_idx[token] if token in token_idx else unk_idx for token in tokens]\n",
    "        indices_data.append(index_list)\n",
    "    return indices_data"
   ]
  },
  {
   "cell_type": "code",
   "execution_count": 652,
   "metadata": {},
   "outputs": [
    {
     "name": "stdout",
     "output_type": "stream",
     "text": [
      "Train dataset size is 20000\n",
      "Val dataset size is 5000\n"
     ]
    }
   ],
   "source": [
    "#unigram\n",
    "train_data_indices = token2index_dataset(train_tokens, token2id)\n",
    "val_data_indices = token2index_dataset(val_tokens, token2id)\n",
    "\n",
    "# double checking\n",
    "print (\"Train dataset size is {}\".format(len(train_data_indices)))\n",
    "print (\"Val dataset size is {}\".format(len(val_data_indices)))"
   ]
  },
  {
   "cell_type": "code",
   "execution_count": 599,
   "metadata": {},
   "outputs": [],
   "source": [
    "# #bigram\n",
    "# train_data_bi_indices = token2index_dataset(bi_train_tokens, bi_token2id)\n",
    "# val_data_bi_indices = token2index_dataset(bi_val_tokens, bi_token2id)\n",
    "\n",
    "# # double checking\n",
    "# print (\"Train dataset size is {}\".format(len(train_data_bi_indices)))\n",
    "# print (\"Val dataset size is {}\".format(len(val_data_bi_indices)))"
   ]
  },
  {
   "cell_type": "markdown",
   "metadata": {},
   "source": [
    "# 5. Create Pytorch Dataloader"
   ]
  },
  {
   "cell_type": "code",
   "execution_count": 627,
   "metadata": {},
   "outputs": [],
   "source": [
    "MAX_SENTENCE_LENGTH = 200\n",
    "\n",
    "import numpy as np\n",
    "import torch\n",
    "from torch.utils.data import Dataset\n",
    "\n",
    "class NewsGroupDataset(Dataset):\n",
    "    \n",
    "    def __init__(self, data_list, target_list):\n",
    "        self.data_list = data_list\n",
    "        self.target_list = target_list\n",
    "        assert (len(self.data_list) == len(self.target_list))\n",
    "\n",
    "    def __len__(self):\n",
    "        return len(self.data_list)\n",
    "        \n",
    "    def __getitem__(self, key):\n",
    "        token_idx = self.data_list[key][:MAX_SENTENCE_LENGTH]\n",
    "        label = self.target_list[key]\n",
    "        return [token_idx, len(token_idx), label]\n",
    "\n",
    "def newsgroup_collate_func(batch):\n",
    "    data_list = []\n",
    "    label_list = []\n",
    "    length_list = []\n",
    "    \n",
    "    for datum in batch:\n",
    "        label_list.append(datum[2])\n",
    "        length_list.append(datum[1])\n",
    "    # padding\n",
    "    for datum in batch:\n",
    "        padded_vec = np.pad(np.array(datum[0]), \n",
    "                                pad_width=((0,MAX_SENTENCE_LENGTH-datum[1])), \n",
    "                                mode=\"constant\", constant_values=0)\n",
    "        data_list.append(padded_vec)\n",
    "    return [torch.from_numpy(np.array(data_list)), torch.LongTensor(length_list), torch.LongTensor(label_list)]\n",
    "\n"
   ]
  },
  {
   "cell_type": "code",
   "execution_count": null,
   "metadata": {},
   "outputs": [],
   "source": [
    "# BATCH_SIZE = 32\n",
    "# train_dataset = NewsGroupDataset(train_data_indices, y_train)\n",
    "# train_loader = torch.utils.data.DataLoader(dataset=train_dataset, \n",
    "#                                            batch_size=BATCH_SIZE,\n",
    "#                                            collate_fn=newsgroup_collate_func,\n",
    "#                                            shuffle=True)\n",
    "\n",
    "# val_dataset = NewsGroupDataset(val_data_indices, y_val)\n",
    "# val_loader = torch.utils.data.DataLoader(dataset=val_dataset, \n",
    "#                                            batch_size=BATCH_SIZE,\n",
    "#                                            collate_fn=newsgroup_collate_func,\n",
    "#                                            shuffle=True)"
   ]
  },
  {
   "cell_type": "markdown",
   "metadata": {},
   "source": [
    "# 6. N-gram model"
   ]
  },
  {
   "cell_type": "code",
   "execution_count": 629,
   "metadata": {},
   "outputs": [],
   "source": [
    "import torch\n",
    "import torch.nn as nn\n",
    "import torch.nn.functional as F\n",
    "\n",
    "class NgramClassification(nn.Module):\n",
    "    \n",
    "    def __init__(self, vocab_size, emb_dim): # at least 100 when you trian your models\n",
    "        \n",
    "        super(NgramClassification, self).__init__()\n",
    "        self.embed = nn.Embedding(vocab_size, emb_dim, padding_idx=0)\n",
    "        self.linear = nn.Linear(emb_dim, 2) # use linear function inside\n",
    "    \n",
    "    def forward(self, data, length):\n",
    "        \n",
    "        out = self.embed(data.long())\n",
    "        out = torch.sum(out, dim=1)\n",
    "        out /= length.view(length.size()[0],1).expand_as(out).float()\n",
    "     \n",
    "        # return logits\n",
    "        out = self.linear(out.float())\n",
    "        return out\n"
   ]
  },
  {
   "cell_type": "markdown",
   "metadata": {},
   "source": [
    "# 7. Model output"
   ]
  },
  {
   "cell_type": "code",
   "execution_count": 665,
   "metadata": {},
   "outputs": [],
   "source": [
    "BATCH_SIZE = 32\n",
    "def model_process (ngram_vocab, max_vocab_size, ngram_train_tokens, ngram_val_tokens, ytrain, yval, emb_dim):\n",
    "    \n",
    "    #step 1 create dictionary\n",
    "    token2idx, idx2token = vocabulary_dictionary (ngram_vocab, max_vocab_size)\n",
    "    #step 2 convert data into index\n",
    "    train_data_indices = token2index_dataset(ngram_train_tokens, token2idx)\n",
    "    val_data_indices = token2index_dataset(ngram_val_tokens, token2idx)\n",
    "    #step 3 create pytorch dataloader\n",
    "    train_dataset = NewsGroupDataset(train_data_indices, ytrain)\n",
    "    train_loader = torch.utils.data.DataLoader(dataset=train_dataset, \n",
    "                                           batch_size=BATCH_SIZE,\n",
    "                                           collate_fn=newsgroup_collate_func,\n",
    "                                           shuffle=True)\n",
    "    \n",
    "    val_dataset = NewsGroupDataset(val_data_indices, yval)\n",
    "    val_loader = torch.utils.data.DataLoader(dataset=val_dataset, \n",
    "                                           batch_size=BATCH_SIZE,\n",
    "                                           collate_fn=newsgroup_collate_func,\n",
    "                                           shuffle=True)\n",
    "    model = NgramClassification(len(idx2token), emb_dim)\n",
    "    \n",
    "    return train_loader, val_loader, model"
   ]
  },
  {
   "cell_type": "code",
   "execution_count": null,
   "metadata": {},
   "outputs": [],
   "source": [
    "from nltk.util import ngrams\n",
    "\n",
    "n_gram = [1, 2, 3, 4] # ngram return tuple type\n",
    "unigram = all_tokens\n",
    "bigrams_vocab = list(ngrams((all_tokens), n_gram[1])) # n_gram = 2\n",
    "trigrams_vocab = list(ngrams((all_tokens), n_gram[2])) # n_grams = 3\n",
    "fourgrams_vocab = list(ngrams((all_tokens), n_gram[3])) # n_grams = 4"
   ]
  },
  {
   "cell_type": "code",
   "execution_count": 603,
   "metadata": {},
   "outputs": [],
   "source": [
    "#tokenize n_gram on training sets and validation sets\n",
    "bi_train_tokens = []\n",
    "tri_train_tokens = []\n",
    "four_train_tokens = []\n",
    "for sample in train_tokens:\n",
    "    l2 = list(ngrams((sample), n_gram[1]))\n",
    "    l3 = list(ngrams((sample), n_gram[2]))\n",
    "    l4 = list(ngrams((sample), n_gram[3]))\n",
    "    bi_train_tokens.append(l2)\n",
    "    tri_train_tokens.append(l3)\n",
    "    four_train_tokens.append(l4)\n",
    "\n",
    "bi_val_tokens = []\n",
    "tri_val_tokens = []\n",
    "four_val_tokens = []\n",
    "\n",
    "for sample in val_tokens:\n",
    "    l2 = list(ngrams((sample), n_gram[1]))\n",
    "    l3 = list(ngrams((sample), n_gram[2]))\n",
    "    l4 = list(ngrams((sample), n_gram[3]))\n",
    "    bi_val_tokens.append(l2)\n",
    "    tri_val_tokens.append(l3)\n",
    "    four_val_tokens.append(l4)"
   ]
  },
  {
   "cell_type": "code",
   "execution_count": 630,
   "metadata": {},
   "outputs": [],
   "source": [
    "learning_rate = 0.01\n",
    "num_epochs = 5 # number epoch to train\n",
    "\n",
    "# # Criterion and Optimizer\n",
    "# criterion = torch.nn.CrossEntropyLoss()  \n",
    "# optimizer = torch.optim.Adam(model.parameters(), lr=learning_rate)\n",
    "\n",
    "# Function for testing the model\n",
    "def test_model(loader, model):\n",
    "    \"\"\"\n",
    "    Help function that tests the model's performance on a dataset\n",
    "    @param: loader - data loader for the dataset to test against\n",
    "    \"\"\"\n",
    "    correct = 0\n",
    "    total = 0\n",
    "    model.eval()\n",
    "    for data, lengths, labels in loader:\n",
    "        data_batch, length_batch, label_batch = data, lengths, labels\n",
    "        outputs = F.softmax(model(data_batch, length_batch), dim=1) #use the softmax to output\n",
    "        predicted = outputs.max(1, keepdim=True)[1] # get the index of the max log-probability\n",
    "        #https://pytorch.org/docs/0.3.1/torch.html#torch.max\n",
    "        #Returns the maximum value of each row of the input tensor in the given dimension dim. The second return value is the index location of each maximum value found (argmax).\n",
    "        total += labels.size(0)\n",
    "        correct += predicted.eq(labels.view_as(predicted)).sum().item()\n",
    "    return (100 * correct / total)"
   ]
  },
  {
   "cell_type": "code",
   "execution_count": 707,
   "metadata": {},
   "outputs": [],
   "source": [
    "def model_run (train_data, val_data, model_num, learning_r, num_epc):\n",
    "\n",
    "# Criterion and Optimizer\n",
    "    criterion = torch.nn.CrossEntropyLoss()  \n",
    "    optimizer = torch.optim.Adam(model_num.parameters(), lr=learning_r)\n",
    "    max_acc = []\n",
    "    for epoch in range(num_epc):\n",
    "        acc = []\n",
    "        for i, (data, lengths, labels) in enumerate(train_data):\n",
    "            model_num.train()\n",
    "            data_batch, length_batch, label_batch = data, lengths, labels\n",
    "            optimizer.zero_grad()\n",
    "            outputs = model_num(data_batch, length_batch)\n",
    "            loss = criterion(outputs, label_batch)\n",
    "            loss.backward()\n",
    "            optimizer.step()\n",
    "        # validate every 100 iterations\n",
    "            \n",
    "            if i > 0 and i % 100 == 0:\n",
    "                # validate\n",
    "                val_acc = test_model(val_data, model_num)\n",
    "#                 print('Epoch: [{}/{}], Step: [{}/{}], Validation Acc: {}'.format( \n",
    "#                        epoch+1, num_epc, i+1, len(train_data), val_acc))\n",
    "                acc.append(val_acc)\n",
    "        max_acc += acc\n",
    "    return max(max_acc)         "
   ]
  },
  {
   "cell_type": "code",
   "execution_count": 607,
   "metadata": {},
   "outputs": [],
   "source": [
    "# emb_dim = 100\n",
    "# # model2 = NgramClassification(len(bi_id2token), emb_dim)\n",
    "# model = NgramClassification(len(id2token), emb_dim)\n",
    "# model2 = NgramClassification(len(bi_id2token), emb_dim)\n",
    "# model3 = NgramClassification(len(tri_id2token), emb_dim)\n",
    "# model4 = NgramClassification(len(four_id2token), emb_dim)"
   ]
  },
  {
   "cell_type": "markdown",
   "metadata": {},
   "source": [
    "# 8. Hyper-parameter experiment"
   ]
  },
  {
   "cell_type": "markdown",
   "metadata": {},
   "source": [
    "### 8.1 ngram with 10000 vocabulary size and emb = 100"
   ]
  },
  {
   "cell_type": "code",
   "execution_count": 717,
   "metadata": {},
   "outputs": [],
   "source": [
    "model_result = {}"
   ]
  },
  {
   "cell_type": "code",
   "execution_count": 706,
   "metadata": {},
   "outputs": [],
   "source": [
    "#unigram\n",
    "train_loader1, val_loader1, model_1 = model_process (all_tokens, 10000, train_tokens, val_tokens, y_train, y_val, 100)\n",
    "acc1 = model_run(train_loader1, val_loader1, model_1, learning_rate , num_epochs)\n",
    "model_result[1] = acc1\n",
    "#bigram\n",
    "train_loader2, val_loader2, model_2 = model_process (bigrams_vocab, 10000, bi_train_tokens, bi_val_tokens, y_train, y_val,100)\n",
    "acc2 = model_run(train_loader2, val_loader2, model_2, 0.01 , num_epochs)\n",
    "model_result[2] = acc2\n",
    "#trigram\n",
    "train_loader3, val_loader3, model_3 = model_process (trigrams_vocab, 10000, tri_train_tokens, tri_val_tokens, y_train, y_val,100)\n",
    "acc3 = model_run(train_loader3, val_loader3, model_3, learning_rate , num_epochs)\n",
    "model_result[3] = acc3\n",
    "#fourgram\n",
    "train_loader4, val_loader4, model_4 = model_process (fourgrams_vocab, 10000, four_train_tokens, four_val_tokens, y_train, y_val,100)\n",
    "acc4 = model_run(train_loader4, val_loader4, model_4, learning_rate , num_epochs)\n",
    "model_result[4] = acc4"
   ]
  },
  {
   "cell_type": "code",
   "execution_count": 705,
   "metadata": {},
   "outputs": [
    {
     "data": {
      "image/png": "[encoded data removed]",
      "text/plain": [
       "<Figure size 720x360 with 1 Axes>"
      ]
     },
     "metadata": {
      "needs_background": "light"
     },
     "output_type": "display_data"
    }
   ],
   "source": [
    "ngram = model_result.keys()\n",
    "acc_result = model_result.values()\n",
    "plt.figure(figsize=(10, 5))\n",
    "\n",
    "plt.plot(ngram, acc_result, label = ' {} gram model'.format(ngram))\n",
    "plt.legend(loc='upper right', fontsize=8)\n",
    "plt.xlabel('n gram models')\n",
    "plt.ylabel('Validation Acc Score')\n",
    "plt.title(\"Validation Acc on different n gram model\")\n",
    "plt.show()"
   ]
  },
  {
   "cell_type": "code",
   "execution_count": 675,
   "metadata": {},
   "outputs": [],
   "source": [
    "# train_loader1, val_loader1, model_1 = model_process (all_tokens, 10000, train_tokens, val_tokens, y_train, y_val, 100)\n",
    "# train_loader2, val_loader2, model_2 = model_process (bigrams_vocab, 50000, bi_train_tokens, bi_val_tokens, y_train, y_val,100)\n",
    "# train_loader3, val_loader3, model_3 = model_process (trigrams_vocab, 100000, tri_train_tokens, tri_val_tokens, y_train, y_val,100)\n",
    "# train_loader4, val_loader4, model_4 = model_process (fourgrams_vocab, 150000, four_train_tokens, four_val_tokens, y_train, y_val,100)"
   ]
  },
  {
   "cell_type": "code",
   "execution_count": 676,
   "metadata": {},
   "outputs": [],
   "source": [
    "# model_run(train_loader1, val_loader1, model_1, learning_rate , num_epochs)\n",
    "# model_run(train_loader2, val_loader2, model_2, learning_rate , num_epochs)\n",
    "# model_run(train_loader3, val_loader3, model_3, learning_rate , num_epochs)\n",
    "# model_run(train_loader4, val_loader4, model_4, learning_rate , num_epochs)"
   ]
  },
  {
   "cell_type": "markdown",
   "metadata": {},
   "source": [
    "### 8.2 n gram for different Vocabulary size"
   ]
  },
  {
   "cell_type": "code",
   "execution_count": 708,
   "metadata": {},
   "outputs": [],
   "source": [
    "model_result_2 = {}\n",
    "\n",
    "max_vocab_size_list = [10000, 50000, 90000]\n",
    "for max_vocab in max_vocab_size_list:\n",
    "    train_loader1, val_loader1, model_1 = model_process (all_tokens, max_vocab, train_tokens, val_tokens, y_train, y_val, 100)\n",
    "    acc = model_run(train_loader1, val_loader1, model_1, learning_rate , num_epochs)\n",
    "    model_result_2[str(max_vocab)] = acc"
   ]
  },
  {
   "cell_type": "code",
   "execution_count": 716,
   "metadata": {},
   "outputs": [
    {
     "data": {
      "image/png": "[encoded data removed]",
      "text/plain": [
       "<Figure size 720x360 with 1 Axes>"
      ]
     },
     "metadata": {
      "needs_background": "light"
     },
     "output_type": "display_data"
    }
   ],
   "source": [
    "vocab_size = model_result_2.keys()\n",
    "acc_result = model_result_2.values()\n",
    "plt.figure(figsize=(10, 5))\n",
    "\n",
    "plt.plot(vocab_size, acc_result, label = ' {} vocabulary size'.format(vocab_size))\n",
    "plt.legend(loc='upper right', fontsize=8)\n",
    "plt.xlabel('vocabulary size')\n",
    "plt.ylabel('Validation Acc Score')\n",
    "plt.title(\"Validation Acc on different vocabulary size\")\n",
    "plt.show()"
   ]
  },
  {
   "cell_type": "markdown",
   "metadata": {},
   "source": [
    "### 8.3 Different Embedding size"
   ]
  },
  {
   "cell_type": "code",
   "execution_count": 722,
   "metadata": {},
   "outputs": [],
   "source": [
    "embd_size = [100,120, 150, 500]\n",
    "model_result_3 = {}"
   ]
  },
  {
   "cell_type": "code",
   "execution_count": 725,
   "metadata": {},
   "outputs": [],
   "source": [
    "for embd_dims in max_vocab_size_list:\n",
    "    train_loader1, val_loader1, model_1 = model_process (all_tokens, 10000, train_tokens, val_tokens, y_train, y_val, embd_dims)\n",
    "    acc = model_run(train_loader1, val_loader1, model_1, learning_rate , num_epochs)\n",
    "    model_result_3[str(embd_dims)] = acc"
   ]
  },
  {
   "cell_type": "code",
   "execution_count": 727,
   "metadata": {},
   "outputs": [],
   "source": []
  },
  {
   "cell_type": "code",
   "execution_count": 730,
   "metadata": {},
   "outputs": [
    {
     "data": {
      "image/png": "[encoded data removed]",
      "text/plain": [
       "<Figure size 720x360 with 1 Axes>"
      ]
     },
     "metadata": {
      "needs_background": "light"
     },
     "output_type": "display_data"
    }
   ],
   "source": [
    "embd_size = model_result_3.keys()\n",
    "acc_result = model_result_3.values()\n",
    "plt.figure(figsize=(10, 5))\n",
    "\n",
    "plt.plot(embd_size, acc_result, label = ' {} embedding size'.format(embd_size))\n",
    "plt.legend(loc='upper right', fontsize=8)\n",
    "plt.xlabel('embedding size')\n",
    "plt.ylabel('Validation Acc Score')\n",
    "plt.title(\"Validation Acc on different embedding size\")\n",
    "plt.show()"
   ]
  },
  {
   "cell_type": "markdown",
   "metadata": {},
   "source": [
    "### 8.4 Comparing Optimization hyperparameters"
   ]
  },
  {
   "cell_type": "code",
   "execution_count": 731,
   "metadata": {},
   "outputs": [],
   "source": [
    "#USE SGD optimizer\n",
    "\n",
    "def model_run_SGD (train_data, val_data, model_num, learning_r, num_epc):\n",
    "\n",
    "# Criterion and Optimizer\n",
    "    criterion = torch.nn.CrossEntropyLoss()  \n",
    "    optimizer = torch.optim.SGD(model_num.parameters(), lr=learning_r)\n",
    "    max_acc = []\n",
    "    for epoch in range(num_epc):\n",
    "        acc = []\n",
    "        for i, (data, lengths, labels) in enumerate(train_data):\n",
    "            model_num.train()\n",
    "            data_batch, length_batch, label_batch = data, lengths, labels\n",
    "            optimizer.zero_grad()\n",
    "            outputs = model_num(data_batch, length_batch)\n",
    "            loss = criterion(outputs, label_batch)\n",
    "            loss.backward()\n",
    "            optimizer.step()\n",
    "        # validate every 100 iterations\n",
    "            \n",
    "            if i > 0 and i % 100 == 0:\n",
    "                # validate\n",
    "                val_acc = test_model(val_data, model_num)\n",
    "#                 print('Epoch: [{}/{}], Step: [{}/{}], Validation Acc: {}'.format( \n",
    "#                        epoch+1, num_epc, i+1, len(train_data), val_acc))\n",
    "                acc.append(val_acc)\n",
    "        max_acc += acc\n",
    "    return max(max_acc) "
   ]
  },
  {
   "cell_type": "code",
   "execution_count": 732,
   "metadata": {},
   "outputs": [],
   "source": [
    "train_loader1, val_loader1, model_1 = model_process (all_tokens, 10000, train_tokens, val_tokens, y_train, y_val, 100)\n",
    "acc_Ada = model_run(train_loader1, val_loader1, model_1, learning_rate , num_epochs)\n",
    "acc_sgd = model_run_SGD(train_loader1, val_loader1, model_1, learning_rate , num_epochs)"
   ]
  },
  {
   "cell_type": "code",
   "execution_count": 735,
   "metadata": {},
   "outputs": [
    {
     "name": "stdout",
     "output_type": "stream",
     "text": [
      "The maximum validation acc of Adam optimization is : 87.7\n",
      "The maximum validation acc of SGD optimization is : 85.92\n"
     ]
    }
   ],
   "source": [
    "print(\"The maximum validation acc of Adam optimization is : {}\".format(acc_Ada))\n",
    "print(\"The maximum validation acc of SGD optimization is : {}\".format(acc_sgd))"
   ]
  },
  {
   "cell_type": "code",
   "execution_count": 772,
   "metadata": {},
   "outputs": [],
   "source": [
    "def model_output(loader, model):\n",
    "    \n",
    "    correct = 0\n",
    "    total = 0\n",
    "    l = []\n",
    "    model.eval()\n",
    "    for data, lengths, labels in loader:\n",
    "        data_batch, length_batch, label_batch = data, lengths, labels\n",
    "        outputs = F.softmax(model(data_batch, length_batch), dim=1) #use the softmax to output\n",
    "        predicted = outputs.max(1, keepdim=True)[1]\n",
    "        l += list(predicted.eq(labels.view_as(predicted)))\n",
    "    return l"
   ]
  },
  {
   "cell_type": "code",
   "execution_count": 773,
   "metadata": {},
   "outputs": [],
   "source": [
    "l = model_output(val_loader1, model_1)"
   ]
  },
  {
   "cell_type": "code",
   "execution_count": 775,
   "metadata": {},
   "outputs": [],
   "source": [
    "# print(l)"
   ]
  },
  {
   "cell_type": "code",
   "execution_count": null,
   "metadata": {},
   "outputs": [],
   "source": []
  }
 ],
 "metadata": {
  "kernelspec": {
   "display_name": "Python 3",
   "language": "python",
   "name": "python3"
  },
  "language_info": {
   "codemirror_mode": {
    "name": "ipython",
    "version": 3
   },
   "file_extension": ".py",
   "mimetype": "text/x-python",
   "name": "python",
   "nbconvert_exporter": "python",
   "pygments_lexer": "ipython3",
   "version": "3.6.6"
  }
 },
 "nbformat": 4,
 "nbformat_minor": 2
}
